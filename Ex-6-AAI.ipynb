{
 "cells": [
  {
   "cell_type": "code",
   "execution_count": null,
   "metadata": {},
   "outputs": [],
   "source": [
    "pip install nltk"
   ]
  },
  {
   "cell_type": "code",
   "execution_count": null,
   "metadata": {},
   "outputs": [
    {
     "name": "stderr",
     "output_type": "stream",
     "text": [
      "[nltk_data] Downloading package punkt to C:\\Users\\Lavanya\n",
      "[nltk_data]     Joyce\\AppData\\Roaming\\nltk_data...\n",
      "[nltk_data]   Package punkt is already up-to-date!\n",
      "[nltk_data] Downloading package averaged_perceptron_tagger to\n",
      "[nltk_data]     C:\\Users\\Lavanya Joyce\\AppData\\Roaming\\nltk_data...\n",
      "[nltk_data]   Unzipping taggers\\averaged_perceptron_tagger.zip.\n"
     ]
    },
    {
     "data": {
      "text/plain": [
       "True"
      ]
     },
     "execution_count": 2,
     "metadata": {},
     "output_type": "execute_result"
    }
   ],
   "source": [
    "import nltk\n",
    "from nltk.tokenize import word_tokenize\n",
    "\n",
    "# Download required resources\n",
    "nltk.download('punkt_tab')  # For tokenization\n",
    "nltk.download('averaged_perceptron_tagger_eng')  # For POS tagging"
   ]
  },
  {
   "cell_type": "code",
   "execution_count": null,
   "metadata": {},
   "outputs": [],
   "source": [
    "# Get input sentence\n",
    "sentence = input(\"Enter a sentence: \")\n",
    "\n",
    "# Tokenize the sentence into words\n",
    "words = word_tokenize(sentence)\n",
    "\n",
    "# Identify the parts of speech for each word\n",
    "pos_tags = nltk.pos_tag(words)\n",
    "\n",
    "# Print results\n",
    "print(\"Words:\", words)\n",
    "print(\"POS Tags:\", pos_tags)"
   ]
  },
  {
   "cell_type": "code",
   "execution_count": null,
   "metadata": {},
   "outputs": [],
   "source": [
    "from nltk.corpus import wordnet\n",
    "\n",
    "# Identify synonyms and antonyms for each word\n",
    "synonyms =[]\n",
    "antonyms =[]\n",
    "for word in words:\n",
    "\tfor syn in wordnet.synsets(word) :\n",
    "\t\tfor lemma in syn.lemmas():\n",
    "\t\t\tsynonyms . append (lemma . name( ) )\n",
    "\t\t\tif lemma . antonyms():\n",
    "\t\t\t\tantonyms . append ( lemma. antonyms ( ) [0] . name ( ) )\n",
    "# Print the synonyms and antonyms\n",
    "print ( \"Synonyms : \" ,set (synonyms) )\n",
    "print ( \"Antonyms : \" ,set(antonyms) )\n"
   ]
  }
 ],
 "metadata": {
  "kernelspec": {
   "display_name": "Python 3",
   "language": "python",
   "name": "python3"
  },
  "language_info": {
   "codemirror_mode": {
    "name": "ipython",
    "version": 3
   },
   "file_extension": ".py",
   "mimetype": "text/x-python",
   "name": "python",
   "nbconvert_exporter": "python",
   "pygments_lexer": "ipython3",
   "version": "3.10.6"
  }
 },
 "nbformat": 4,
 "nbformat_minor": 2
}
